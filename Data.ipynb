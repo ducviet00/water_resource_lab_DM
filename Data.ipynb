{
  "nbformat": 4,
  "nbformat_minor": 0,
  "metadata": {
    "colab": {
      "name": "Data.ipynb",
      "provenance": [],
      "collapsed_sections": [],
      "toc_visible": true,
      "mount_file_id": "1GgHwr8ea05zqGdjCiTrM6wsI--XU8VwG",
      "authorship_tag": "ABX9TyOdd/KaycWUQP3WzCirLhZR",
      "include_colab_link": true
    },
    "kernelspec": {
      "name": "python3",
      "display_name": "Python 3"
    }
  },
  "cells": [
    {
      "cell_type": "markdown",
      "metadata": {
        "id": "view-in-github",
        "colab_type": "text"
      },
      "source": [
        "<a href=\"https://colab.research.google.com/github/ducviet00/water_resource_lab_DM/blob/viet/Data.ipynb\" target=\"_parent\"><img src=\"https://colab.research.google.com/assets/colab-badge.svg\" alt=\"Open In Colab\"/></a>"
      ]
    },
    {
      "cell_type": "code",
      "metadata": {
        "id": "ONdLVdfKo3bg",
        "colab_type": "code",
        "colab": {}
      },
      "source": [
        "import pandas as pd\n",
        "import glob"
      ],
      "execution_count": 0,
      "outputs": []
    },
    {
      "cell_type": "code",
      "metadata": {
        "id": "8YdteQ3V9j3m",
        "colab_type": "code",
        "colab": {}
      },
      "source": [
        "pd.options.display.float_format = \"{:.2f}\".format"
      ],
      "execution_count": 0,
      "outputs": []
    },
    {
      "cell_type": "markdown",
      "metadata": {
        "id": "iiAeSaueVMpg",
        "colab_type": "text"
      },
      "source": [
        "**Chuyển từ TXT sang CSV**\n",
        "\n",
        "Phần comment dùng để convert phần meteorological data sang CSV + gộp lại thành 1 bảng luôn\n",
        "\n"
      ]
    },
    {
      "cell_type": "code",
      "metadata": {
        "id": "TGQ_zGYW23T6",
        "colab_type": "code",
        "colab": {}
      },
      "source": [
        " def txt_to_csv(): \n",
        "  extension = \"txt\"\n",
        "  path = \"/content/drive/My Drive/20192/Datapredict/Dữ liệu tài nguyên nước/KTTV/Discharge (Q)/Hourly data/\"\n",
        "  allFile = glob.glob(path+\"*.\" +extension)\n",
        "  for i in allFile:\n",
        "    file_csv = pd.read_csv(i,sep=\"\\t\",header=1)\n",
        "    file_csv.to_csv(\"/content/drive/My Drive/20192/Datapredict/Exportd/Discharge (Q)/Hourly data/\" + file_csv.columns[1] + \".csv\")\n",
        "\n",
        "#  if i == 0: \n",
        "#    CSV = file_csv\n",
        "#  else:\n",
        "#    CSV = pd.concat([CSV, file_csv.drop(['Time'], axis=1)], axis=1)"
      ],
      "execution_count": 0,
      "outputs": []
    },
    {
      "cell_type": "markdown",
      "metadata": {
        "id": "9S5D3u6dVzEd",
        "colab_type": "text"
      },
      "source": [
        "**Xem qua dữ liệu**\n",
        "\n",
        "Dựa vào dữ liệu Meteorological do có ít nhất (6 trạm đo)\n",
        "\n",
        "\n",
        "1.   Buôn Ma Thuột - Thiếu dữ liệu về Discharge (Q), có thể dùng dữ liệu của trạm Cau 14 để thay thế do gần nhất (xấp xỉ 15km) (?)\n",
        "2.   Đà Lạt - Thiếu Water Level và Discharge, không có trạm ở gần để đo. \n",
        "\n",
        "3. Dak To - Đủ, Tuy nhiên dữ liệu daily discharge của Dak To có vẻ bị lỗi vì toàn bộ là 1E-30\n",
        "4. Kon Tum - Đủ, chỉ số water level theo ngày bị lỗi từ 1980 - 1985 vì toàn bộ là 1E-30, discharge bị lỗi từ 2016 đến cuối.\n",
        "5. Pleiku - Như Đà Lạt\n",
        "6. Stung Treng - Không có tên trong file meteorological station và google ra thì ở Campuchia ??? Và tất nhiên thiếu dữ liệu Q và H.\n",
        "\n",
        "\n"
      ]
    },
    {
      "cell_type": "code",
      "metadata": {
        "id": "61doi5c3avYc",
        "colab_type": "code",
        "colab": {}
      },
      "source": [
        "#Xử lý dữ liệu\n",
        "path_meteo = '/content/drive/My Drive/20192/Datapredict/Exportd/Daily Meteorological data Export to CSV/Kon Tum.csv'\n",
        "path_Q = '/content/drive/My Drive/20192/Datapredict/Exportd/Discharge (Q)/Daily Data/Kon Tum.csv'\n",
        "path_evp = '/content/drive/My Drive/20192/Datapredict/Exportd/Monthly Evaporation (Boc hoi) exported/KonTum.csv'\n",
        "path_rfall = '/content/drive/My Drive/20192/Datapredict/Exportd/Rainfall/KonTum.csv'\n",
        "path_wl = '/content/drive/My Drive/20192/Datapredict/Exportd/Water Level (Muc luong)/Daily data/Kon Tum.csv'\n",
        "path = [path_Q, path_evp, path_rfall, path_wl]\n"
      ],
      "execution_count": 0,
      "outputs": []
    },
    {
      "cell_type": "code",
      "metadata": {
        "id": "eSVxvjPugzSV",
        "colab_type": "code",
        "colab": {}
      },
      "source": [
        "def chuanhoa(path_i):\n",
        "  file_csv = pd.read_csv(path_i, index_col=0)\n",
        "  file_csv.Time = file_csv.Time.str[:-9]\n",
        "  return file_csv"
      ],
      "execution_count": 0,
      "outputs": []
    },
    {
      "cell_type": "code",
      "metadata": {
        "id": "y_j_gXVta5L2",
        "colab_type": "code",
        "colab": {}
      },
      "source": [
        "CSV = chuanhoa(path_meteo)"
      ],
      "execution_count": 0,
      "outputs": []
    },
    {
      "cell_type": "code",
      "metadata": {
        "id": "252axn942XGc",
        "colab_type": "code",
        "colab": {}
      },
      "source": [
        "CSV.describe()"
      ],
      "execution_count": 0,
      "outputs": []
    },
    {
      "cell_type": "code",
      "metadata": {
        "id": "NWPh0daZ1MF1",
        "colab_type": "code",
        "colab": {}
      },
      "source": [
        "CSV = CSV.rename(columns={'Kon Tum - Daily average wind speed':'wind', 'Kon Tum - MAX TEMP': 'maxTemp', 'Kon Tum - MIN TEMP' : 'minTemp', 'Kon Tum - Daily total solar radiation' : 'solarR', 'Kon Tum - Daily average relative humidity': 'humidity' })"
      ],
      "execution_count": 0,
      "outputs": []
    },
    {
      "cell_type": "code",
      "metadata": {
        "id": "1NasYc3g3yds",
        "colab_type": "code",
        "colab": {}
      },
      "source": [
        "Q_csv = chuanhoa(path_Q)\n",
        "Q_csv = Q_csv.rename(columns={'Kon Tum' : 'discharge'})"
      ],
      "execution_count": 0,
      "outputs": []
    },
    {
      "cell_type": "code",
      "metadata": {
        "id": "_-7RPlom8Q0i",
        "colab_type": "code",
        "colab": {}
      },
      "source": [
        "CSV = CSV.merge(Q_csv, left_on='Time', right_on='Time')"
      ],
      "execution_count": 0,
      "outputs": []
    },
    {
      "cell_type": "code",
      "metadata": {
        "id": "bDGDcPOaAOuq",
        "colab_type": "code",
        "colab": {
          "base_uri": "https://localhost:8080/",
          "height": 297
        },
        "outputId": "da7e5f56-eb9b-43d0-9c99-3723a8f2d1a4"
      },
      "source": [
        "CSV.describe()"
      ],
      "execution_count": 105,
      "outputs": [
        {
          "output_type": "execute_result",
          "data": {
            "text/html": [
              "<div>\n",
              "<style scoped>\n",
              "    .dataframe tbody tr th:only-of-type {\n",
              "        vertical-align: middle;\n",
              "    }\n",
              "\n",
              "    .dataframe tbody tr th {\n",
              "        vertical-align: top;\n",
              "    }\n",
              "\n",
              "    .dataframe thead th {\n",
              "        text-align: right;\n",
              "    }\n",
              "</style>\n",
              "<table border=\"1\" class=\"dataframe\">\n",
              "  <thead>\n",
              "    <tr style=\"text-align: right;\">\n",
              "      <th></th>\n",
              "      <th>wind</th>\n",
              "      <th>maxTemp</th>\n",
              "      <th>minTemp</th>\n",
              "      <th>solarR</th>\n",
              "      <th>humidity</th>\n",
              "      <th>discharge</th>\n",
              "      <th>rain</th>\n",
              "      <th>waterlevel</th>\n",
              "    </tr>\n",
              "  </thead>\n",
              "  <tbody>\n",
              "    <tr>\n",
              "      <th>count</th>\n",
              "      <td>13148.00</td>\n",
              "      <td>13148.00</td>\n",
              "      <td>13148.00</td>\n",
              "      <td>13148.00</td>\n",
              "      <td>13148.00</td>\n",
              "      <td>13148.00</td>\n",
              "      <td>13148.00</td>\n",
              "      <td>13148.00</td>\n",
              "    </tr>\n",
              "    <tr>\n",
              "      <th>mean</th>\n",
              "      <td>1.38</td>\n",
              "      <td>25.02</td>\n",
              "      <td>22.92</td>\n",
              "      <td>18.03</td>\n",
              "      <td>0.75</td>\n",
              "      <td>97.16</td>\n",
              "      <td>5.19</td>\n",
              "      <td>444.18</td>\n",
              "    </tr>\n",
              "    <tr>\n",
              "      <th>std</th>\n",
              "      <td>0.96</td>\n",
              "      <td>3.95</td>\n",
              "      <td>2.51</td>\n",
              "      <td>4.28</td>\n",
              "      <td>0.10</td>\n",
              "      <td>106.34</td>\n",
              "      <td>13.22</td>\n",
              "      <td>178.45</td>\n",
              "    </tr>\n",
              "    <tr>\n",
              "      <th>min</th>\n",
              "      <td>0.00</td>\n",
              "      <td>12.90</td>\n",
              "      <td>10.70</td>\n",
              "      <td>7.17</td>\n",
              "      <td>0.40</td>\n",
              "      <td>3.50</td>\n",
              "      <td>0.00</td>\n",
              "      <td>-0.00</td>\n",
              "    </tr>\n",
              "    <tr>\n",
              "      <th>25%</th>\n",
              "      <td>0.75</td>\n",
              "      <td>22.90</td>\n",
              "      <td>21.60</td>\n",
              "      <td>15.15</td>\n",
              "      <td>0.68</td>\n",
              "      <td>41.10</td>\n",
              "      <td>0.00</td>\n",
              "      <td>515.44</td>\n",
              "    </tr>\n",
              "    <tr>\n",
              "      <th>50%</th>\n",
              "      <td>1.25</td>\n",
              "      <td>24.30</td>\n",
              "      <td>23.40</td>\n",
              "      <td>18.57</td>\n",
              "      <td>0.75</td>\n",
              "      <td>66.90</td>\n",
              "      <td>0.00</td>\n",
              "      <td>515.67</td>\n",
              "    </tr>\n",
              "    <tr>\n",
              "      <th>75%</th>\n",
              "      <td>1.75</td>\n",
              "      <td>26.00</td>\n",
              "      <td>24.60</td>\n",
              "      <td>21.21</td>\n",
              "      <td>0.84</td>\n",
              "      <td>117.00</td>\n",
              "      <td>3.30</td>\n",
              "      <td>516.02</td>\n",
              "    </tr>\n",
              "    <tr>\n",
              "      <th>max</th>\n",
              "      <td>7.25</td>\n",
              "      <td>38.70</td>\n",
              "      <td>28.90</td>\n",
              "      <td>28.06</td>\n",
              "      <td>1.00</td>\n",
              "      <td>3500.00</td>\n",
              "      <td>183.16</td>\n",
              "      <td>521.45</td>\n",
              "    </tr>\n",
              "  </tbody>\n",
              "</table>\n",
              "</div>"
            ],
            "text/plain": [
              "          wind  maxTemp  minTemp  ...  discharge     rain  waterlevel\n",
              "count 13148.00 13148.00 13148.00  ...   13148.00 13148.00    13148.00\n",
              "mean      1.38    25.02    22.92  ...      97.16     5.19      444.18\n",
              "std       0.96     3.95     2.51  ...     106.34    13.22      178.45\n",
              "min       0.00    12.90    10.70  ...       3.50     0.00       -0.00\n",
              "25%       0.75    22.90    21.60  ...      41.10     0.00      515.44\n",
              "50%       1.25    24.30    23.40  ...      66.90     0.00      515.67\n",
              "75%       1.75    26.00    24.60  ...     117.00     3.30      516.02\n",
              "max       7.25    38.70    28.90  ...    3500.00   183.16      521.45\n",
              "\n",
              "[8 rows x 8 columns]"
            ]
          },
          "metadata": {
            "tags": []
          },
          "execution_count": 105
        }
      ]
    },
    {
      "cell_type": "code",
      "metadata": {
        "id": "X7W1D-nj-LkN",
        "colab_type": "code",
        "colab": {}
      },
      "source": [
        "#evp_csv = chuanhoa(path_evp)\n",
        "#evp_csv = evp_csv.rename(columns={'KonTum' : 'evp'})"
      ],
      "execution_count": 0,
      "outputs": []
    },
    {
      "cell_type": "code",
      "metadata": {
        "id": "JTaY6o-D-dEW",
        "colab_type": "code",
        "colab": {
          "base_uri": "https://localhost:8080/",
          "height": 297
        },
        "outputId": "0bbb2e5a-c9be-4e1f-d8d2-3768f32b7ac0"
      },
      "source": [
        "#evp_csv.describe()"
      ],
      "execution_count": 94,
      "outputs": [
        {
          "output_type": "execute_result",
          "data": {
            "text/html": [
              "<div>\n",
              "<style scoped>\n",
              "    .dataframe tbody tr th:only-of-type {\n",
              "        vertical-align: middle;\n",
              "    }\n",
              "\n",
              "    .dataframe tbody tr th {\n",
              "        vertical-align: top;\n",
              "    }\n",
              "\n",
              "    .dataframe thead th {\n",
              "        text-align: right;\n",
              "    }\n",
              "</style>\n",
              "<table border=\"1\" class=\"dataframe\">\n",
              "  <thead>\n",
              "    <tr style=\"text-align: right;\">\n",
              "      <th></th>\n",
              "      <th>evp</th>\n",
              "    </tr>\n",
              "  </thead>\n",
              "  <tbody>\n",
              "    <tr>\n",
              "      <th>count</th>\n",
              "      <td>457.00</td>\n",
              "    </tr>\n",
              "    <tr>\n",
              "      <th>mean</th>\n",
              "      <td>126.65</td>\n",
              "    </tr>\n",
              "    <tr>\n",
              "      <th>std</th>\n",
              "      <td>28.27</td>\n",
              "    </tr>\n",
              "    <tr>\n",
              "      <th>min</th>\n",
              "      <td>68.23</td>\n",
              "    </tr>\n",
              "    <tr>\n",
              "      <th>25%</th>\n",
              "      <td>107.66</td>\n",
              "    </tr>\n",
              "    <tr>\n",
              "      <th>50%</th>\n",
              "      <td>118.78</td>\n",
              "    </tr>\n",
              "    <tr>\n",
              "      <th>75%</th>\n",
              "      <td>141.23</td>\n",
              "    </tr>\n",
              "    <tr>\n",
              "      <th>max</th>\n",
              "      <td>271.67</td>\n",
              "    </tr>\n",
              "  </tbody>\n",
              "</table>\n",
              "</div>"
            ],
            "text/plain": [
              "         evp\n",
              "count 457.00\n",
              "mean  126.65\n",
              "std    28.27\n",
              "min    68.23\n",
              "25%   107.66\n",
              "50%   118.78\n",
              "75%   141.23\n",
              "max   271.67"
            ]
          },
          "metadata": {
            "tags": []
          },
          "execution_count": 94
        }
      ]
    },
    {
      "cell_type": "code",
      "metadata": {
        "id": "a6P5kTxm_FPm",
        "colab_type": "code",
        "colab": {}
      },
      "source": [
        "#CSV = CSV.merge(evp_csv, left_on='Time', right_on='Time')"
      ],
      "execution_count": 0,
      "outputs": []
    },
    {
      "cell_type": "code",
      "metadata": {
        "id": "xOiogYjW_bKk",
        "colab_type": "code",
        "colab": {}
      },
      "source": [
        "rfall_csv = chuanhoa(path_rfall)\n",
        "rfall_csv = rfall_csv.rename(columns={'KonTum':'rain'})"
      ],
      "execution_count": 0,
      "outputs": []
    },
    {
      "cell_type": "code",
      "metadata": {
        "id": "P4Uswqgq_7ov",
        "colab_type": "code",
        "colab": {}
      },
      "source": [
        "CSV = CSV.merge(rfall_csv, left_on='Time', right_on='Time')"
      ],
      "execution_count": 0,
      "outputs": []
    },
    {
      "cell_type": "code",
      "metadata": {
        "id": "aVqcNj9MALJY",
        "colab_type": "code",
        "colab": {}
      },
      "source": [
        "wl_csv = chuanhoa(path_wl)"
      ],
      "execution_count": 0,
      "outputs": []
    },
    {
      "cell_type": "code",
      "metadata": {
        "id": "e3gkqfoMCkU4",
        "colab_type": "code",
        "colab": {
          "base_uri": "https://localhost:8080/",
          "height": 297
        },
        "outputId": "a382df2c-c2e8-4f58-b019-b904db2bc96b"
      },
      "source": [
        "wl_csv.describe()"
      ],
      "execution_count": 100,
      "outputs": [
        {
          "output_type": "execute_result",
          "data": {
            "text/html": [
              "<div>\n",
              "<style scoped>\n",
              "    .dataframe tbody tr th:only-of-type {\n",
              "        vertical-align: middle;\n",
              "    }\n",
              "\n",
              "    .dataframe tbody tr th {\n",
              "        vertical-align: top;\n",
              "    }\n",
              "\n",
              "    .dataframe thead th {\n",
              "        text-align: right;\n",
              "    }\n",
              "</style>\n",
              "<table border=\"1\" class=\"dataframe\">\n",
              "  <thead>\n",
              "    <tr style=\"text-align: right;\">\n",
              "      <th></th>\n",
              "      <th>Kon Tum</th>\n",
              "    </tr>\n",
              "  </thead>\n",
              "  <tbody>\n",
              "    <tr>\n",
              "      <th>count</th>\n",
              "      <td>13149.00</td>\n",
              "    </tr>\n",
              "    <tr>\n",
              "      <th>mean</th>\n",
              "      <td>444.19</td>\n",
              "    </tr>\n",
              "    <tr>\n",
              "      <th>std</th>\n",
              "      <td>178.44</td>\n",
              "    </tr>\n",
              "    <tr>\n",
              "      <th>min</th>\n",
              "      <td>-0.00</td>\n",
              "    </tr>\n",
              "    <tr>\n",
              "      <th>25%</th>\n",
              "      <td>515.44</td>\n",
              "    </tr>\n",
              "    <tr>\n",
              "      <th>50%</th>\n",
              "      <td>515.67</td>\n",
              "    </tr>\n",
              "    <tr>\n",
              "      <th>75%</th>\n",
              "      <td>516.02</td>\n",
              "    </tr>\n",
              "    <tr>\n",
              "      <th>max</th>\n",
              "      <td>521.45</td>\n",
              "    </tr>\n",
              "  </tbody>\n",
              "</table>\n",
              "</div>"
            ],
            "text/plain": [
              "       Kon Tum\n",
              "count 13149.00\n",
              "mean    444.19\n",
              "std     178.44\n",
              "min      -0.00\n",
              "25%     515.44\n",
              "50%     515.67\n",
              "75%     516.02\n",
              "max     521.45"
            ]
          },
          "metadata": {
            "tags": []
          },
          "execution_count": 100
        }
      ]
    },
    {
      "cell_type": "code",
      "metadata": {
        "id": "YcPB3wD9Cm98",
        "colab_type": "code",
        "colab": {}
      },
      "source": [
        "wl_csv = wl_csv.rename(columns={'Kon Tum' : 'waterlevel'})"
      ],
      "execution_count": 0,
      "outputs": []
    },
    {
      "cell_type": "code",
      "metadata": {
        "id": "w5jWLkJPCwhp",
        "colab_type": "code",
        "colab": {}
      },
      "source": [
        "CSV = CSV.merge(wl_csv, left_on='Time', right_on='Time')"
      ],
      "execution_count": 0,
      "outputs": []
    },
    {
      "cell_type": "code",
      "metadata": {
        "id": "7BPtercNDTwf",
        "colab_type": "code",
        "colab": {}
      },
      "source": [
        "indexrow = CSV[CSV['waterlevel'] < 0].index"
      ],
      "execution_count": 0,
      "outputs": []
    },
    {
      "cell_type": "code",
      "metadata": {
        "id": "BO84Rp0aEk6l",
        "colab_type": "code",
        "colab": {}
      },
      "source": [
        "CSV = CSV.drop(indexrow)"
      ],
      "execution_count": 0,
      "outputs": []
    },
    {
      "cell_type": "code",
      "metadata": {
        "id": "_jFZTYziEzRO",
        "colab_type": "code",
        "colab": {}
      },
      "source": [
        "CSV.to_csv('/content/drive/My Drive/20192/Datapredict/Exportd/Kon Tum daily data.csv')"
      ],
      "execution_count": 0,
      "outputs": []
    },
    {
      "cell_type": "code",
      "metadata": {
        "id": "RJV2j_-MF0lq",
        "colab_type": "code",
        "colab": {}
      },
      "source": [
        "evp_csv.to_csv('/content/drive/My Drive/20192/Datapredict/Exportd/Kon Tum monthly evaporation.csv')"
      ],
      "execution_count": 0,
      "outputs": []
    },
    {
      "cell_type": "code",
      "metadata": {
        "id": "q379L6QcGZFE",
        "colab_type": "code",
        "colab": {
          "base_uri": "https://localhost:8080/",
          "height": 204
        },
        "outputId": "500c070e-38bd-45df-a9ea-62a15080f53d"
      },
      "source": [
        "CSV.sample(5)"
      ],
      "execution_count": 115,
      "outputs": [
        {
          "output_type": "execute_result",
          "data": {
            "text/html": [
              "<div>\n",
              "<style scoped>\n",
              "    .dataframe tbody tr th:only-of-type {\n",
              "        vertical-align: middle;\n",
              "    }\n",
              "\n",
              "    .dataframe tbody tr th {\n",
              "        vertical-align: top;\n",
              "    }\n",
              "\n",
              "    .dataframe thead th {\n",
              "        text-align: right;\n",
              "    }\n",
              "</style>\n",
              "<table border=\"1\" class=\"dataframe\">\n",
              "  <thead>\n",
              "    <tr style=\"text-align: right;\">\n",
              "      <th></th>\n",
              "      <th>Time</th>\n",
              "      <th>wind</th>\n",
              "      <th>maxTemp</th>\n",
              "      <th>minTemp</th>\n",
              "      <th>solarR</th>\n",
              "      <th>humidity</th>\n",
              "      <th>discharge</th>\n",
              "      <th>rain</th>\n",
              "      <th>waterlevel</th>\n",
              "    </tr>\n",
              "  </thead>\n",
              "  <tbody>\n",
              "    <tr>\n",
              "      <th>9217</th>\n",
              "      <td>2005-03-27</td>\n",
              "      <td>1.50</td>\n",
              "      <td>26.30</td>\n",
              "      <td>26.30</td>\n",
              "      <td>23.07</td>\n",
              "      <td>0.72</td>\n",
              "      <td>23.70</td>\n",
              "      <td>0.00</td>\n",
              "      <td>515.30</td>\n",
              "    </tr>\n",
              "    <tr>\n",
              "      <th>6030</th>\n",
              "      <td>1996-07-05</td>\n",
              "      <td>0.75</td>\n",
              "      <td>24.90</td>\n",
              "      <td>24.90</td>\n",
              "      <td>19.35</td>\n",
              "      <td>0.84</td>\n",
              "      <td>50.20</td>\n",
              "      <td>5.10</td>\n",
              "      <td>515.59</td>\n",
              "    </tr>\n",
              "    <tr>\n",
              "      <th>6460</th>\n",
              "      <td>1997-09-08</td>\n",
              "      <td>1.25</td>\n",
              "      <td>24.90</td>\n",
              "      <td>24.90</td>\n",
              "      <td>11.85</td>\n",
              "      <td>0.83</td>\n",
              "      <td>100.00</td>\n",
              "      <td>0.00</td>\n",
              "      <td>516.04</td>\n",
              "    </tr>\n",
              "    <tr>\n",
              "      <th>2004</th>\n",
              "      <td>1985-06-27</td>\n",
              "      <td>1.00</td>\n",
              "      <td>23.50</td>\n",
              "      <td>23.50</td>\n",
              "      <td>13.84</td>\n",
              "      <td>0.88</td>\n",
              "      <td>154.00</td>\n",
              "      <td>8.00</td>\n",
              "      <td>516.21</td>\n",
              "    </tr>\n",
              "    <tr>\n",
              "      <th>5070</th>\n",
              "      <td>1993-11-18</td>\n",
              "      <td>2.25</td>\n",
              "      <td>23.20</td>\n",
              "      <td>23.20</td>\n",
              "      <td>13.67</td>\n",
              "      <td>0.79</td>\n",
              "      <td>60.80</td>\n",
              "      <td>0.00</td>\n",
              "      <td>515.69</td>\n",
              "    </tr>\n",
              "  </tbody>\n",
              "</table>\n",
              "</div>"
            ],
            "text/plain": [
              "            Time  wind  maxTemp  minTemp  ...  humidity  discharge  rain  waterlevel\n",
              "9217  2005-03-27  1.50    26.30    26.30  ...      0.72      23.70  0.00      515.30\n",
              "6030  1996-07-05  0.75    24.90    24.90  ...      0.84      50.20  5.10      515.59\n",
              "6460  1997-09-08  1.25    24.90    24.90  ...      0.83     100.00  0.00      516.04\n",
              "2004  1985-06-27  1.00    23.50    23.50  ...      0.88     154.00  8.00      516.21\n",
              "5070  1993-11-18  2.25    23.20    23.20  ...      0.79      60.80  0.00      515.69\n",
              "\n",
              "[5 rows x 9 columns]"
            ]
          },
          "metadata": {
            "tags": []
          },
          "execution_count": 115
        }
      ]
    }
  ]
}